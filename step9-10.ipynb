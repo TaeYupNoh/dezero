{
 "cells": [
  {
   "cell_type": "markdown",
   "id": "e2db401b-6c97-4a0e-88e2-c987f322ab30",
   "metadata": {},
   "source": [
    "# STEP 9 함수를 더 편리하게\n",
    "- 현재 DeZero가 역전파를 해낼 수 있게 완료함\n",
    "- 또한 Define-by-Run이라고 하는 전체 계산의 각 조각들을 런타임에 '연결'해내는 능력도 갖춤\n",
    "- 이번 step에서는 사용에 불편한 부분을 개선할 예정임"
   ]
  },
  {
   "cell_type": "markdown",
   "id": "425e7d47-cfc3-41b8-b172-caae6ec34c8c",
   "metadata": {},
   "source": [
    "## 9.1 파이썬 함수로 이용하기\n",
    "- 지금까지 DeZero는 함수를 '파이썬 클래스'로 정의해 사용했음\n",
    "- 예를 들어 Square 클래스를 사용하는 계산을 하기 위해서는 코드를 아래와 같이 작성해야 했음"
   ]
  },
  {
   "cell_type": "code",
   "execution_count": null,
   "id": "3a64d2d9-7ed8-423d-aa0f-b1e36c267638",
   "metadata": {},
   "outputs": [],
   "source": [
    "x = Variable(np.array(0.5))\n",
    "f = Square()\n",
    "y = f(x)"
   ]
  },
  {
   "cell_type": "markdown",
   "id": "b0dbcb5b-13d5-4f8e-b742-f6129993401a",
   "metadata": {},
   "source": [
    "- Square 클래스의 인스턴스 생성 후, 그 인스턴스를 호출하는 **두 단계**로 구분되었음\n",
    "- y = Square()(X) 형태로 적을 수 있지만 모양새가 좋지 않음\n",
    "- 따라서 '파이썬 함수'를 지원하는 방식을 사용할 것임"
   ]
  },
  {
   "cell_type": "code",
   "execution_count": null,
   "id": "a522436f-68fd-468e-b609-ef9323a5c01e",
   "metadata": {},
   "outputs": [],
   "source": [
    "def square(x):\n",
    "    f = Square()\n",
    "    return f(x)\n",
    "\n",
    "def exp(x):\n",
    "    f = Exp()\n",
    "    return f(x)"
   ]
  },
  {
   "cell_type": "markdown",
   "id": "031dccaa-ebd5-44d2-aa31-07f2b0c4f0c5",
   "metadata": {},
   "source": [
    "- 이를 통해 DeZero 함수를 파이썬 함수로 이용 가능해짐\n",
    "- 아래와 같이 한 줄로 적을 수도 있음"
   ]
  },
  {
   "cell_type": "code",
   "execution_count": null,
   "id": "0a9b727f-db52-48ad-96c2-2e31039e068e",
   "metadata": {},
   "outputs": [],
   "source": [
    "def square(x):\n",
    "    return Square()(x)\n",
    "\n",
    "def exp(x):\n",
    "    return Exp()(x)"
   ]
  },
  {
   "cell_type": "code",
   "execution_count": null,
   "id": "8673187f-f31e-46d1-8810-5ee8653db10a",
   "metadata": {},
   "outputs": [],
   "source": [
    "# 사용 예시\n",
    "x = Variable(np.array(0.5))\n",
    "y = square(exp(square(x)))\n",
    "y.grad = np.array(1.0)\n",
    "y.backward()\n",
    "print(x.grad)\n",
    "# >>> 3.297442541400256"
   ]
  },
  {
   "cell_type": "markdown",
   "id": "8874630d-3d93-4c55-823f-ad88b79d6fa7",
   "metadata": {},
   "source": [
    "## 9.2 backward 메서드 간소화\n",
    "- 위의 사용 예시 코드에서 `y.grad = np.array(1.0)` 부분을 생략하려 함"
   ]
  },
  {
   "cell_type": "code",
   "execution_count": null,
   "id": "c52b4cae-96d8-4b37-ba8f-a435c44226f3",
   "metadata": {},
   "outputs": [],
   "source": [
    "class Variable:\n",
    "    # ...\n",
    "    def backward(self):\n",
    "        if self.grad is None:\n",
    "            self.grad = np.ones_like(self.data)\n",
    "            \n",
    "        funcs = [self.creator]\n",
    "        while funcs:\n",
    "            f = funcs.pop()\n",
    "            x,y = f.input, f.output\n",
    "            x.grad = f.backward(y.grad)\n",
    "            \n",
    "            if x.creator is not None:\n",
    "                funcs.append(x.creator)"
   ]
  },
  {
   "cell_type": "markdown",
   "id": "a4ee25d6-af47-4257-bd7e-8e093b4011ee",
   "metadata": {},
   "source": [
    "- 위의 코드와 같이, 만약 변수의 grad가 None이면 자동으로 미분 값을 생성함\n",
    "- `np.ones_like(self.data)`는 self.data와 형상과 데이터 타입이 같은 ndarray 인스턴스를 생성\n",
    "- 이제 계산 하고 난 뒤 최종 출력 변수에서 backward 메서드를 호출하는 것만으로 미분값이 구해짐"
   ]
  },
  {
   "cell_type": "code",
   "execution_count": null,
   "id": "eec60119-85b8-473d-8019-44f32b2468df",
   "metadata": {},
   "outputs": [],
   "source": [
    "x = Variable(np.array(0.5))\n",
    "y = square(exp(square(x)))\n",
    "y.backward()\n",
    "print(x.grad)\n",
    "# >>> 3.297442541400256"
   ]
  },
  {
   "cell_type": "markdown",
   "id": "518951e4-d334-4c11-aada-9eab07b94fbb",
   "metadata": {},
   "source": [
    "## 9.3 ndarray만 취급하기\n",
    "- DeZero의 Variable은 데이터로 ndarray 인스턴스만 취급하게끔 의도했음\n",
    "- 하지만 실수로 inf, float 같은 데이터 타입 입력 시 오류를 일으킬 것임"
   ]
  },
  {
   "cell_type": "code",
   "execution_count": null,
   "id": "1e59cd3a-cf61-4c0c-bebe-833155f6ab6f",
   "metadata": {},
   "outputs": [],
   "source": [
    "class Variable:\n",
    "    def __init__(self, data):\n",
    "        if data is not None:\n",
    "            if not isinstance(data, np.ndarray):\n",
    "                raise TypeError('{}은(는) 지원하지 않습니다.'.format(type(data)))\n",
    "                \n",
    "        self.data = data\n",
    "        self.grad = None\n",
    "        self.creator = None"
   ]
  },
  {
   "cell_type": "markdown",
   "id": "e6015273-e1d2-44d9-be84-08cad5cb3ed2",
   "metadata": {},
   "source": [
    "- 그런데 이렇게 바꿀 경우, 주의할 것이 하나 생김\n",
    "- 1차원 ndarray(ex. `np.array([1.0])`)를 제곱하면 결과의 데이터 타입도 ndarray가 됨\n",
    "- 그러나 0차원 ndarray(ex. `np.array(1.0)`)를 제곱하면 np.float64 데이터 타입이 됨\n",
    "- 이는 넘파이가 의도한 동작이며, DeZero에선 입력과 출력 모두 ndarrary라 가정했으므로 대처 해야함"
   ]
  },
  {
   "cell_type": "code",
   "execution_count": null,
   "id": "214823a7-f1b9-4af8-be6e-53109a5ba2c0",
   "metadata": {},
   "outputs": [],
   "source": [
    "def as_array(x):\n",
    "    if np.isscalar(x):\n",
    "        return np.array(x)\n",
    "    return x"
   ]
  },
  {
   "cell_type": "code",
   "execution_count": null,
   "id": "a60e3030-b3a0-4b53-9bb8-1943ab9025bb",
   "metadata": {},
   "outputs": [],
   "source": [
    "class Function:\n",
    "    def __call__(self, input):\n",
    "        x = input.data\n",
    "        y = self.forward(x)\n",
    "        # 추가한 부분\n",
    "        output = Variable(as_array(y))\n",
    "        output.set_creator(self)\n",
    "        self.input = input\n",
    "        self.output = output\n",
    "        return output"
   ]
  },
  {
   "cell_type": "markdown",
   "id": "78363d8c-0d33-45f1-b6b4-0546a21777c0",
   "metadata": {},
   "source": [
    "# STEP 10 테스트\n",
    "## 10.1 파이썬 단위 테스트\n",
    "- 표준 라이브러리에 포함된 unittest 사용"
   ]
  },
  {
   "cell_type": "code",
   "execution_count": null,
   "id": "b7f2015b-66b7-4f00-a32a-6e901a18989e",
   "metadata": {},
   "outputs": [],
   "source": [
    "import unittest\n",
    "\n",
    "class SquareTest(unittest.TestCase):\n",
    "    def test_forward(self):\n",
    "        x = Variable(np.array(2.0))\n",
    "        y = square(x)\n",
    "        expected = np.array(4.0)\n",
    "        self.assertEqual(y.data, expected)"
   ]
  },
  {
   "cell_type": "markdown",
   "id": "757b0db3-fda0-4ce1-8492-87bd45ccc13f",
   "metadata": {},
   "source": [
    "- 지켜야할 규칙은, 테스트 할 때 이름이 test로 시작하는 메서드를 만들고 그 안에 테스트할 내용을 적어야한다는 것임\n",
    "- CLI에서 `python -m unittest '파일명'.py`로 실행 가능"
   ]
  },
  {
   "cell_type": "markdown",
   "id": "b380402f-c8a4-47f7-bd2e-0bafd0859f6c",
   "metadata": {},
   "source": [
    "## 10.2 square 함수의 역전파 테스트"
   ]
  },
  {
   "cell_type": "code",
   "execution_count": null,
   "id": "fdf10346-dc8d-4067-aa1b-73e1a40deebe",
   "metadata": {},
   "outputs": [],
   "source": [
    "class SquareTest(unittest.TestCase):\n",
    "    # ...\n",
    "    \n",
    "    def test_backward(self):\n",
    "        x = Variable(np.array(3.0))\n",
    "        y = square(x)\n",
    "        y.backward()\n",
    "        expected = np.array(6.0)\n",
    "        self.assertEqual(x.grad, expected)"
   ]
  },
  {
   "cell_type": "markdown",
   "id": "45701f76-c404-4684-a2ac-714540a976d4",
   "metadata": {},
   "source": [
    "## 10.3 기울기 확인을 이용한 자동 테스트\n",
    "- 기울기 확인이란 수치 미분으로 구한 결과와 역전파로 구한 결과를 비교하여 그 차이가 크면 역전파에 문제가 있다고 판단하는 검증 기법"
   ]
  },
  {
   "cell_type": "code",
   "execution_count": null,
   "id": "64183f69-724e-41ff-ac4b-2075c63215e6",
   "metadata": {},
   "outputs": [],
   "source": [
    "def numerical_diff(f, x, eps=1e-4):\n",
    "    x0 = Variable(x.data - eps)\n",
    "    x1 = Variable(x.data + eps)\n",
    "    y0 = f(x0)\n",
    "    y1 = f(x1)\n",
    "    return (y1.data - y0.data) / (2 * eps)\n",
    "\n",
    "class SquareTest(unittest.TestCase):\n",
    "    # ...\n",
    "    \n",
    "    def test_gradient_check(self):\n",
    "        x = Variable(np.random.rand(1))\n",
    "        y = square(x)\n",
    "        y.backward()\n",
    "        num_grad = numerical_diff(square, x)\n",
    "        # np.allclose(a,b) : 가까운지 가깝지 않은 지 판정해 bool 값 return\n",
    "        flg = np.allclose(x.grad, num_grad)\n",
    "        self.assertTrue(flg)"
   ]
  }
 ],
 "metadata": {
  "kernelspec": {
   "display_name": "Python 3 (ipykernel)",
   "language": "python",
   "name": "python3"
  },
  "language_info": {
   "codemirror_mode": {
    "name": "ipython",
    "version": 3
   },
   "file_extension": ".py",
   "mimetype": "text/x-python",
   "name": "python",
   "nbconvert_exporter": "python",
   "pygments_lexer": "ipython3",
   "version": "3.9.12"
  }
 },
 "nbformat": 4,
 "nbformat_minor": 5
}
