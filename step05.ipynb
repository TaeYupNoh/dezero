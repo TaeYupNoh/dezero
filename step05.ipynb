{
 "cells": [
  {
   "attachments": {},
   "cell_type": "markdown",
   "metadata": {},
   "source": [
    "# 05 역전파 이론\n",
    "\n",
    "- 역전파를 이용하면 미분을 효율적으로 계산할 수 있고 결괏값의 오차도 더 적음\n",
    "\n",
    "- 머신러닝을 주로 대량의 매개변수를 입력받아 마지막에 손실함수를 거쳐 출력을 내는 형태로 진행됨\n",
    "\n",
    "### 연쇄 법칙\n",
    "\n",
    "역전파를 이해하는 핵심 열쇠는 연쇄 법칙 **(Chain rule)**\n",
    "\n",
    "chain은 **‘사슬’**이라는 뜻으로, 여러 함수를 사슬처럼 연결하여 사용하는 모습을 빗댄 것\n",
    "\n",
    "Chain rule에 따르면 합성 함수의 미분은 구성 함수 각각을 미분한 후 곱한 것과 같음\n",
    "\n",
    "- 합성 함수의 미분\n",
    "    \n",
    "    $$\n",
    "    {dy\\over dx} = {dy\\over db}{db\\over da}{da\\over dx}\n",
    "    $$\n",
    "    \n",
    "    $x$에 대한 $y$의 미분은 구성 함수 각각의 미분 값을 모두 곱한 값과 같음\n",
    "    \n",
    "    따라서 합성 함수 $F$의 미분은 각 함수의 국소적인 미분들로 분해할 수 있음\n",
    "    \n",
    "    $$\n",
    "    {dy\\over dx} = {dy\\over dy}{dy\\over db}{db\\over da}{da\\over dx}\n",
    "    $$\n",
    "    \n",
    "머신러닝은 주로 대량의 매개변수를 입력 받아 마지막에 **손실 함수(Loss func)**를 거침.\n",
    "\n",
    "손실 함수의 출력은 (대체로) 단일한 스칼라이며, 이 값이 **중요 요소**.\n",
    "\n",
    "즉, **손실 함수의 각 매개변수에 대한 미분**을 계산해야 합니다. 이런 경우 미분 값을 출력에서 입력 방향으로 전파하면 한 번의 전파 만으로 모든 매개변수에 대한 미분을 계산할 수 있음.\n",
    "\n",
    "이러한 **효율성** 때문에 미분을 반대 방향으로 전파하는 역전파 방식을 이용하는 것.\n"
   ]
  }
 ],
 "metadata": {
  "kernelspec": {
   "display_name": "Python 3",
   "language": "python",
   "name": "python3"
  },
  "language_info": {
   "name": "python",
   "version": "3.10.8"
  },
  "orig_nbformat": 4,
  "vscode": {
   "interpreter": {
    "hash": "b0fa6594d8f4cbf19f97940f81e996739fb7646882a419484c72d19e05852a7e"
   }
  }
 },
 "nbformat": 4,
 "nbformat_minor": 2
}
